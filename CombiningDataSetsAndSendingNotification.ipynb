{
 "cells": [
  {
   "cell_type": "code",
   "execution_count": null,
   "id": "b30bd984-0835-464b-b027-ded603ab276a",
   "metadata": {},
   "outputs": [],
   "source": [
    "# what I got from Raven "
   ]
  },
  {
   "cell_type": "code",
   "execution_count": 1,
   "id": "54d66a27-e9ce-48c3-b713-ddab18a9a901",
   "metadata": {},
   "outputs": [],
   "source": [
    "from ravenpackapi import RPApi\n",
    "from plyer import notification\n",
    "import datetime\n",
    "api = RPApi(api_key='Wy3ca5h5XMwXgYgNnqt4jZ',  product=\"edge\") "
   ]
  },
  {
   "cell_type": "code",
   "execution_count": 3,
   "id": "4db8cf44-a10d-4dc7-9b19-5c309fb9a063",
   "metadata": {},
   "outputs": [
    {
     "name": "stderr",
     "output_type": "stream",
     "text": [
      "DEBUG:ravenpack.models.dataset:Connecting with RT feed: https://feed-edge.ravenpack.com/1.0/json/us500-edge?keep_alive\n",
      "DEBUG:urllib3.connectionpool:Resetting dropped connection: feed-edge.ravenpack.com\n",
      "DEBUG:urllib3.connectionpool:https://feed-edge.ravenpack.com:443 \"GET /1.0/json/us500-edge?keep_alive HTTP/1.1\" 200 None\n",
      "DEBUG:ravenpack.core:Request get to /document/A9EA50DD47DAC97F051654C8E7AA82AC/url\n",
      "DEBUG:urllib3.connectionpool:Starting new HTTPS connection (1): api-edge.ravenpack.com:443\n",
      "DEBUG:urllib3.connectionpool:https://api-edge.ravenpack.com:443 \"GET /1.0/document/A9EA50DD47DAC97F051654C8E7AA82AC/url HTTP/1.1\" 404 None\n",
      "INFO:ravenpack.core:API query to curl -X GET -H 'API_KEY:Wy3ca5h5XMwXgYgNnqt4jZ' 'https://api-edge.ravenpack.com/1.0/document/A9EA50DD47DAC97F051654C8E7AA82AC/url'\n",
      "ERROR:ravenpack.core:Error calling the API, we tried: curl -X GET -H 'API_KEY:Wy3ca5h5XMwXgYgNnqt4jZ' 'https://api-edge.ravenpack.com/1.0/document/A9EA50DD47DAC97F051654C8E7AA82AC/url'\n"
     ]
    },
    {
     "ename": "APIException404",
     "evalue": "Got an error 404: body was '{\"endpoint\":\"document\",\"errors\":[{\"reason\":\"Document not found\",\"type\":\"ResourceNotFoundError\"}]}\n'",
     "output_type": "error",
     "traceback": [
      "\u001b[1;31m---------------------------------------------------------------------------\u001b[0m",
      "\u001b[1;31mAPIException404\u001b[0m                           Traceback (most recent call last)",
      "Cell \u001b[1;32mIn[3], line 34\u001b[0m\n\u001b[0;32m     32\u001b[0m Rec_ID \u001b[38;5;241m=\u001b[39m record\u001b[38;5;241m.\u001b[39mTITLE\n\u001b[0;32m     33\u001b[0m rp_document_id \u001b[38;5;241m=\u001b[39m record[\u001b[38;5;124m\"\u001b[39m\u001b[38;5;124mrp_document_id\u001b[39m\u001b[38;5;124m\"\u001b[39m] \u001b[38;5;66;03m#record.RP_DOCUMENT_ID\u001b[39;00m\n\u001b[1;32m---> 34\u001b[0m url \u001b[38;5;241m=\u001b[39m \u001b[43mapi\u001b[49m\u001b[38;5;241;43m.\u001b[39;49m\u001b[43mget_document_url\u001b[49m\u001b[43m(\u001b[49m\u001b[43mrp_document_id\u001b[49m\u001b[43m)\u001b[49m\n\u001b[0;32m     35\u001b[0m \u001b[38;5;250m\u001b[39m\u001b[38;5;124;03m'''\u001b[39;00m\n\u001b[0;32m     36\u001b[0m \u001b[38;5;124;03m@ Neeraj Send the notification from here\u001b[39;00m\n\u001b[0;32m     37\u001b[0m \u001b[38;5;124;03m'''\u001b[39;00m\n\u001b[0;32m     38\u001b[0m \u001b[38;5;28mprint\u001b[39m(record\u001b[38;5;241m.\u001b[39mtimestamp_utc, record\u001b[38;5;241m.\u001b[39mentity_name, record\u001b[38;5;241m.\u001b[39mTITLE, record[\u001b[38;5;124m\"\u001b[39m\u001b[38;5;124mevent_relevance\u001b[39m\u001b[38;5;124m\"\u001b[39m], record\u001b[38;5;241m.\u001b[39mRP_DOCUMENT_ID)\n",
      "File \u001b[1;32m~\\AppData\\Local\\anaconda3\\lib\\site-packages\\ravenpackapi\\core.py:258\u001b[0m, in \u001b[0;36mRPApi.get_document_url\u001b[1;34m(self, rp_story_id)\u001b[0m\n\u001b[0;32m    257\u001b[0m \u001b[38;5;28;01mdef\u001b[39;00m \u001b[38;5;21mget_document_url\u001b[39m(\u001b[38;5;28mself\u001b[39m, rp_story_id):\n\u001b[1;32m--> 258\u001b[0m     response \u001b[38;5;241m=\u001b[39m \u001b[38;5;28;43mself\u001b[39;49m\u001b[38;5;241;43m.\u001b[39;49m\u001b[43mrequest\u001b[49m\u001b[43m(\u001b[49m\u001b[38;5;124;43m\"\u001b[39;49m\u001b[38;5;124;43m/document/\u001b[39;49m\u001b[38;5;132;43;01m%s\u001b[39;49;00m\u001b[38;5;124;43m/url\u001b[39;49m\u001b[38;5;124;43m\"\u001b[39;49m\u001b[43m \u001b[49m\u001b[38;5;241;43m%\u001b[39;49m\u001b[43m \u001b[49m\u001b[43mrp_story_id\u001b[49m\u001b[43m)\u001b[49m\n\u001b[0;32m    259\u001b[0m     \u001b[38;5;28;01mreturn\u001b[39;00m response\u001b[38;5;241m.\u001b[39mjson()[\u001b[38;5;124m\"\u001b[39m\u001b[38;5;124murl\u001b[39m\u001b[38;5;124m\"\u001b[39m]\n",
      "File \u001b[1;32m~\\AppData\\Local\\anaconda3\\lib\\site-packages\\ravenpackapi\\core.py:123\u001b[0m, in \u001b[0;36mRPApi.request\u001b[1;34m(self, endpoint, data, json, params, method, stream, request_params, headers, except_on_fail)\u001b[0m\n\u001b[0;32m    119\u001b[0m \u001b[38;5;28;01mif\u001b[39;00m except_on_fail \u001b[38;5;129;01mand\u001b[39;00m response\u001b[38;5;241m.\u001b[39mstatus_code \u001b[38;5;129;01mnot\u001b[39;00m \u001b[38;5;129;01min\u001b[39;00m {\u001b[38;5;241m200\u001b[39m, \u001b[38;5;241m202\u001b[39m}:\n\u001b[0;32m    120\u001b[0m     logger\u001b[38;5;241m.\u001b[39merror(\n\u001b[0;32m    121\u001b[0m         \u001b[38;5;124m\"\u001b[39m\u001b[38;5;124mError calling the API, we tried: \u001b[39m\u001b[38;5;132;01m%s\u001b[39;00m\u001b[38;5;124m\"\u001b[39m \u001b[38;5;241m%\u001b[39m to_curl(response\u001b[38;5;241m.\u001b[39mrequest)\n\u001b[0;32m    122\u001b[0m     )\n\u001b[1;32m--> 123\u001b[0m     \u001b[38;5;28;01mraise\u001b[39;00m get_exception(response)\n\u001b[0;32m    124\u001b[0m \u001b[38;5;28;01mreturn\u001b[39;00m response\n",
      "\u001b[1;31mAPIException404\u001b[0m: Got an error 404: body was '{\"endpoint\":\"document\",\"errors\":[{\"reason\":\"Document not found\",\"type\":\"ResourceNotFoundError\"}]}\n'"
     ]
    }
   ],
   "source": [
    "import logging\n",
    "import time\n",
    "\n",
    "from ravenpackapi import ApiConnectionError, RPApi\n",
    "from ravenpackapi.utils.retry_logic import incremental_backoff\n",
    "\n",
    "from ravenpackapi import RPApi\n",
    "from plyer import notification\n",
    "import datetime\n",
    "\n",
    "api = RPApi(api_key='Wy3ca5h5XMwXgYgNnqt4jZ',  product=\"edge\") \n",
    "\n",
    "logging.basicConfig(level=logging.DEBUG)\n",
    "logger = logging.getLogger(__name__)\n",
    "\n",
    "# query the realtime feed\n",
    "\n",
    "ds_EA = api.get_dataset(dataset_id=\"2ACA994D710FDC32890BB19BFFDA5B71\")  # EnergyAccident\n",
    "ds_RN = api.get_dataset(dataset_id=\"f24c292c0071493fadcc5d0c023ccd39\")  # renew\n",
    "ds_W  = api.get_dataset(dataset_id=\"5DF79AF7BFFB94967546F9F53E98CFF0\")  # War_Con for oil producing countries \n",
    "# ds_EV\n",
    "\n",
    "ds = api.get_dataset(dataset_id='us500-edge')    # \"Climate Change\"  \"CleanTech\"  # \"us500\" # \"e22d52083bd14c7283996671b86fb102\"\n",
    "\n",
    "wait_time = incremental_backoff()\n",
    "Rec_ID = []\n",
    "\n",
    "while True:  \n",
    "    try:\n",
    "        for record in (ds.request_realtime() or ds_EA.request_realtime() or ds_W.request_realtime())  :\n",
    "            if Rec_ID != record.TITLE:\n",
    "                Rec_ID = record.TITLE\n",
    "                rp_document_id = record[\"rp_document_id\"] #record.RP_DOCUMENT_ID\n",
    "                url = api.get_document_url(rp_document_id)\n",
    "                '''\n",
    "                @ Neeraj Send the notification from here\n",
    "                '''\n",
    "                print(record.timestamp_utc, record.entity_name, record.TITLE, record[\"event_relevance\"], record.RP_DOCUMENT_ID)\n",
    "                \n",
    "    except (KeyboardInterrupt, SystemExit):\n",
    "        break\n",
    "    except ApiConnectionError as e:\n",
    "        logger.error(\"Connection error %s: reconnecting...\" % e)\n",
    "        time.sleep(next(wait_time))"
   ]
  },
  {
   "cell_type": "code",
   "execution_count": null,
   "id": "dd944b97-189f-4e0a-bf12-b1e99a24a5de",
   "metadata": {},
   "outputs": [],
   "source": []
  }
 ],
 "metadata": {
  "kernelspec": {
   "display_name": "Python 3 (ipykernel)",
   "language": "python",
   "name": "python3"
  },
  "language_info": {
   "codemirror_mode": {
    "name": "ipython",
    "version": 3
   },
   "file_extension": ".py",
   "mimetype": "text/x-python",
   "name": "python",
   "nbconvert_exporter": "python",
   "pygments_lexer": "ipython3",
   "version": "3.10.13"
  }
 },
 "nbformat": 4,
 "nbformat_minor": 5
}
